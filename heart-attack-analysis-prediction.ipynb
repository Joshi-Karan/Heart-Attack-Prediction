{
 "cells": [
  {
   "cell_type": "code",
   "execution_count": 1,
   "id": "fea11b8b",
   "metadata": {
    "_cell_guid": "b1076dfc-b9ad-4769-8c92-a6c4dae69d19",
    "_uuid": "8f2839f25d086af736a60e9eeb907d3b93b6e0e5",
    "execution": {
     "iopub.execute_input": "2023-02-08T17:32:52.134640Z",
     "iopub.status.busy": "2023-02-08T17:32:52.134198Z",
     "iopub.status.idle": "2023-02-08T17:32:53.401483Z",
     "shell.execute_reply": "2023-02-08T17:32:53.400428Z"
    },
    "papermill": {
     "duration": 1.282188,
     "end_time": "2023-02-08T17:32:53.404431",
     "exception": false,
     "start_time": "2023-02-08T17:32:52.122243",
     "status": "completed"
    },
    "tags": []
   },
   "outputs": [],
   "source": [
    "import seaborn as sns\n",
    "import numpy as np\n",
    "import pandas as pd\n",
    "import matplotlib.pyplot as plt\n",
    "%matplotlib inline\n",
    "import warnings\n",
    "warnings.filterwarnings('ignore')\n",
    "\n",
    "# required dependancy\n",
    "from sklearn.model_selection import train_test_split, GridSearchCV, cross_val_score\n",
    "from sklearn.preprocessing import StandardScaler\n",
    "from sklearn.metrics import accuracy_score\n",
    "\n",
    "from sklearn.svm import SVC\n",
    "from sklearn.linear_model import LogisticRegression\n",
    "from sklearn.neighbors import KNeighborsClassifier\n",
    "from sklearn.ensemble import RandomForestClassifier\n",
    "from sklearn.ensemble import VotingClassifier"
   ]
  },
  {
   "cell_type": "code",
   "execution_count": 2,
   "id": "6c8d3b13",
   "metadata": {
    "execution": {
     "iopub.execute_input": "2023-02-08T17:32:53.423984Z",
     "iopub.status.busy": "2023-02-08T17:32:53.422550Z",
     "iopub.status.idle": "2023-02-08T17:32:53.447317Z",
     "shell.execute_reply": "2023-02-08T17:32:53.446324Z"
    },
    "papermill": {
     "duration": 0.036933,
     "end_time": "2023-02-08T17:32:53.450005",
     "exception": false,
     "start_time": "2023-02-08T17:32:53.413072",
     "status": "completed"
    },
    "tags": []
   },
   "outputs": [],
   "source": [
    "df = pd.read_csv(\"/kaggle/input/heart-attack-analysis-prediction-dataset/heart.csv\")"
   ]
  },
  {
   "cell_type": "markdown",
   "id": "c5dfb336",
   "metadata": {
    "execution": {
     "iopub.execute_input": "2023-02-08T17:25:32.938735Z",
     "iopub.status.busy": "2023-02-08T17:25:32.937485Z",
     "iopub.status.idle": "2023-02-08T17:25:32.942914Z",
     "shell.execute_reply": "2023-02-08T17:25:32.941911Z",
     "shell.execute_reply.started": "2023-02-08T17:25:32.938689Z"
    },
    "papermill": {
     "duration": 0.008105,
     "end_time": "2023-02-08T17:32:53.466472",
     "exception": false,
     "start_time": "2023-02-08T17:32:53.458367",
     "status": "completed"
    },
    "tags": []
   },
   "source": [
    "## Visualizing the data"
   ]
  },
  {
   "cell_type": "code",
   "execution_count": 3,
   "id": "b3568a43",
   "metadata": {
    "execution": {
     "iopub.execute_input": "2023-02-08T17:32:53.485614Z",
     "iopub.status.busy": "2023-02-08T17:32:53.484755Z",
     "iopub.status.idle": "2023-02-08T17:32:53.507396Z",
     "shell.execute_reply": "2023-02-08T17:32:53.506580Z"
    },
    "papermill": {
     "duration": 0.035311,
     "end_time": "2023-02-08T17:32:53.510200",
     "exception": false,
     "start_time": "2023-02-08T17:32:53.474889",
     "status": "completed"
    },
    "tags": []
   },
   "outputs": [
    {
     "data": {
      "text/html": [
       "<div>\n",
       "<style scoped>\n",
       "    .dataframe tbody tr th:only-of-type {\n",
       "        vertical-align: middle;\n",
       "    }\n",
       "\n",
       "    .dataframe tbody tr th {\n",
       "        vertical-align: top;\n",
       "    }\n",
       "\n",
       "    .dataframe thead th {\n",
       "        text-align: right;\n",
       "    }\n",
       "</style>\n",
       "<table border=\"1\" class=\"dataframe\">\n",
       "  <thead>\n",
       "    <tr style=\"text-align: right;\">\n",
       "      <th></th>\n",
       "      <th>age</th>\n",
       "      <th>sex</th>\n",
       "      <th>cp</th>\n",
       "      <th>trtbps</th>\n",
       "      <th>chol</th>\n",
       "      <th>fbs</th>\n",
       "      <th>restecg</th>\n",
       "      <th>thalachh</th>\n",
       "      <th>exng</th>\n",
       "      <th>oldpeak</th>\n",
       "      <th>slp</th>\n",
       "      <th>caa</th>\n",
       "      <th>thall</th>\n",
       "      <th>output</th>\n",
       "    </tr>\n",
       "  </thead>\n",
       "  <tbody>\n",
       "    <tr>\n",
       "      <th>0</th>\n",
       "      <td>63</td>\n",
       "      <td>1</td>\n",
       "      <td>3</td>\n",
       "      <td>145</td>\n",
       "      <td>233</td>\n",
       "      <td>1</td>\n",
       "      <td>0</td>\n",
       "      <td>150</td>\n",
       "      <td>0</td>\n",
       "      <td>2.3</td>\n",
       "      <td>0</td>\n",
       "      <td>0</td>\n",
       "      <td>1</td>\n",
       "      <td>1</td>\n",
       "    </tr>\n",
       "    <tr>\n",
       "      <th>1</th>\n",
       "      <td>37</td>\n",
       "      <td>1</td>\n",
       "      <td>2</td>\n",
       "      <td>130</td>\n",
       "      <td>250</td>\n",
       "      <td>0</td>\n",
       "      <td>1</td>\n",
       "      <td>187</td>\n",
       "      <td>0</td>\n",
       "      <td>3.5</td>\n",
       "      <td>0</td>\n",
       "      <td>0</td>\n",
       "      <td>2</td>\n",
       "      <td>1</td>\n",
       "    </tr>\n",
       "    <tr>\n",
       "      <th>2</th>\n",
       "      <td>41</td>\n",
       "      <td>0</td>\n",
       "      <td>1</td>\n",
       "      <td>130</td>\n",
       "      <td>204</td>\n",
       "      <td>0</td>\n",
       "      <td>0</td>\n",
       "      <td>172</td>\n",
       "      <td>0</td>\n",
       "      <td>1.4</td>\n",
       "      <td>2</td>\n",
       "      <td>0</td>\n",
       "      <td>2</td>\n",
       "      <td>1</td>\n",
       "    </tr>\n",
       "    <tr>\n",
       "      <th>3</th>\n",
       "      <td>56</td>\n",
       "      <td>1</td>\n",
       "      <td>1</td>\n",
       "      <td>120</td>\n",
       "      <td>236</td>\n",
       "      <td>0</td>\n",
       "      <td>1</td>\n",
       "      <td>178</td>\n",
       "      <td>0</td>\n",
       "      <td>0.8</td>\n",
       "      <td>2</td>\n",
       "      <td>0</td>\n",
       "      <td>2</td>\n",
       "      <td>1</td>\n",
       "    </tr>\n",
       "    <tr>\n",
       "      <th>4</th>\n",
       "      <td>57</td>\n",
       "      <td>0</td>\n",
       "      <td>0</td>\n",
       "      <td>120</td>\n",
       "      <td>354</td>\n",
       "      <td>0</td>\n",
       "      <td>1</td>\n",
       "      <td>163</td>\n",
       "      <td>1</td>\n",
       "      <td>0.6</td>\n",
       "      <td>2</td>\n",
       "      <td>0</td>\n",
       "      <td>2</td>\n",
       "      <td>1</td>\n",
       "    </tr>\n",
       "  </tbody>\n",
       "</table>\n",
       "</div>"
      ],
      "text/plain": [
       "   age  sex  cp  trtbps  chol  fbs  restecg  thalachh  exng  oldpeak  slp  \\\n",
       "0   63    1   3     145   233    1        0       150     0      2.3    0   \n",
       "1   37    1   2     130   250    0        1       187     0      3.5    0   \n",
       "2   41    0   1     130   204    0        0       172     0      1.4    2   \n",
       "3   56    1   1     120   236    0        1       178     0      0.8    2   \n",
       "4   57    0   0     120   354    0        1       163     1      0.6    2   \n",
       "\n",
       "   caa  thall  output  \n",
       "0    0      1       1  \n",
       "1    0      2       1  \n",
       "2    0      2       1  \n",
       "3    0      2       1  \n",
       "4    0      2       1  "
      ]
     },
     "execution_count": 3,
     "metadata": {},
     "output_type": "execute_result"
    }
   ],
   "source": [
    "df.head()"
   ]
  },
  {
   "cell_type": "code",
   "execution_count": 4,
   "id": "7cd1e483",
   "metadata": {
    "execution": {
     "iopub.execute_input": "2023-02-08T17:32:53.529228Z",
     "iopub.status.busy": "2023-02-08T17:32:53.528640Z",
     "iopub.status.idle": "2023-02-08T17:32:53.551951Z",
     "shell.execute_reply": "2023-02-08T17:32:53.550731Z"
    },
    "papermill": {
     "duration": 0.035899,
     "end_time": "2023-02-08T17:32:53.554822",
     "exception": false,
     "start_time": "2023-02-08T17:32:53.518923",
     "status": "completed"
    },
    "tags": []
   },
   "outputs": [
    {
     "name": "stdout",
     "output_type": "stream",
     "text": [
      "<class 'pandas.core.frame.DataFrame'>\n",
      "RangeIndex: 303 entries, 0 to 302\n",
      "Data columns (total 14 columns):\n",
      " #   Column    Non-Null Count  Dtype  \n",
      "---  ------    --------------  -----  \n",
      " 0   age       303 non-null    int64  \n",
      " 1   sex       303 non-null    int64  \n",
      " 2   cp        303 non-null    int64  \n",
      " 3   trtbps    303 non-null    int64  \n",
      " 4   chol      303 non-null    int64  \n",
      " 5   fbs       303 non-null    int64  \n",
      " 6   restecg   303 non-null    int64  \n",
      " 7   thalachh  303 non-null    int64  \n",
      " 8   exng      303 non-null    int64  \n",
      " 9   oldpeak   303 non-null    float64\n",
      " 10  slp       303 non-null    int64  \n",
      " 11  caa       303 non-null    int64  \n",
      " 12  thall     303 non-null    int64  \n",
      " 13  output    303 non-null    int64  \n",
      "dtypes: float64(1), int64(13)\n",
      "memory usage: 33.3 KB\n"
     ]
    }
   ],
   "source": [
    "df.info()"
   ]
  },
  {
   "cell_type": "code",
   "execution_count": 5,
   "id": "ec316686",
   "metadata": {
    "execution": {
     "iopub.execute_input": "2023-02-08T17:32:53.575417Z",
     "iopub.status.busy": "2023-02-08T17:32:53.574702Z",
     "iopub.status.idle": "2023-02-08T17:32:53.582487Z",
     "shell.execute_reply": "2023-02-08T17:32:53.581390Z"
    },
    "papermill": {
     "duration": 0.020478,
     "end_time": "2023-02-08T17:32:53.584715",
     "exception": false,
     "start_time": "2023-02-08T17:32:53.564237",
     "status": "completed"
    },
    "tags": []
   },
   "outputs": [
    {
     "data": {
      "text/plain": [
       "1    165\n",
       "0    138\n",
       "Name: output, dtype: int64"
      ]
     },
     "execution_count": 5,
     "metadata": {},
     "output_type": "execute_result"
    }
   ],
   "source": [
    "df['output'].value_counts()"
   ]
  },
  {
   "cell_type": "code",
   "execution_count": 6,
   "id": "56abd6ca",
   "metadata": {
    "execution": {
     "iopub.execute_input": "2023-02-08T17:32:53.605102Z",
     "iopub.status.busy": "2023-02-08T17:32:53.604416Z",
     "iopub.status.idle": "2023-02-08T17:32:53.629099Z",
     "shell.execute_reply": "2023-02-08T17:32:53.627901Z"
    },
    "papermill": {
     "duration": 0.037459,
     "end_time": "2023-02-08T17:32:53.631441",
     "exception": false,
     "start_time": "2023-02-08T17:32:53.593982",
     "status": "completed"
    },
    "tags": []
   },
   "outputs": [
    {
     "data": {
      "text/html": [
       "<div>\n",
       "<style scoped>\n",
       "    .dataframe tbody tr th:only-of-type {\n",
       "        vertical-align: middle;\n",
       "    }\n",
       "\n",
       "    .dataframe tbody tr th {\n",
       "        vertical-align: top;\n",
       "    }\n",
       "\n",
       "    .dataframe thead th {\n",
       "        text-align: right;\n",
       "    }\n",
       "</style>\n",
       "<table border=\"1\" class=\"dataframe\">\n",
       "  <thead>\n",
       "    <tr style=\"text-align: right;\">\n",
       "      <th></th>\n",
       "      <th>age</th>\n",
       "      <th>sex</th>\n",
       "      <th>cp</th>\n",
       "      <th>trtbps</th>\n",
       "      <th>chol</th>\n",
       "      <th>fbs</th>\n",
       "      <th>restecg</th>\n",
       "      <th>thalachh</th>\n",
       "      <th>exng</th>\n",
       "      <th>oldpeak</th>\n",
       "      <th>slp</th>\n",
       "      <th>caa</th>\n",
       "      <th>thall</th>\n",
       "      <th>output</th>\n",
       "    </tr>\n",
       "  </thead>\n",
       "  <tbody>\n",
       "    <tr>\n",
       "      <th>age</th>\n",
       "      <td>1.000000</td>\n",
       "      <td>-0.098447</td>\n",
       "      <td>-0.068653</td>\n",
       "      <td>0.279351</td>\n",
       "      <td>0.213678</td>\n",
       "      <td>0.121308</td>\n",
       "      <td>-0.116211</td>\n",
       "      <td>-0.398522</td>\n",
       "      <td>0.096801</td>\n",
       "      <td>0.210013</td>\n",
       "      <td>-0.168814</td>\n",
       "      <td>0.276326</td>\n",
       "      <td>0.068001</td>\n",
       "      <td>-0.225439</td>\n",
       "    </tr>\n",
       "    <tr>\n",
       "      <th>sex</th>\n",
       "      <td>-0.098447</td>\n",
       "      <td>1.000000</td>\n",
       "      <td>-0.049353</td>\n",
       "      <td>-0.056769</td>\n",
       "      <td>-0.197912</td>\n",
       "      <td>0.045032</td>\n",
       "      <td>-0.058196</td>\n",
       "      <td>-0.044020</td>\n",
       "      <td>0.141664</td>\n",
       "      <td>0.096093</td>\n",
       "      <td>-0.030711</td>\n",
       "      <td>0.118261</td>\n",
       "      <td>0.210041</td>\n",
       "      <td>-0.280937</td>\n",
       "    </tr>\n",
       "    <tr>\n",
       "      <th>cp</th>\n",
       "      <td>-0.068653</td>\n",
       "      <td>-0.049353</td>\n",
       "      <td>1.000000</td>\n",
       "      <td>0.047608</td>\n",
       "      <td>-0.076904</td>\n",
       "      <td>0.094444</td>\n",
       "      <td>0.044421</td>\n",
       "      <td>0.295762</td>\n",
       "      <td>-0.394280</td>\n",
       "      <td>-0.149230</td>\n",
       "      <td>0.119717</td>\n",
       "      <td>-0.181053</td>\n",
       "      <td>-0.161736</td>\n",
       "      <td>0.433798</td>\n",
       "    </tr>\n",
       "    <tr>\n",
       "      <th>trtbps</th>\n",
       "      <td>0.279351</td>\n",
       "      <td>-0.056769</td>\n",
       "      <td>0.047608</td>\n",
       "      <td>1.000000</td>\n",
       "      <td>0.123174</td>\n",
       "      <td>0.177531</td>\n",
       "      <td>-0.114103</td>\n",
       "      <td>-0.046698</td>\n",
       "      <td>0.067616</td>\n",
       "      <td>0.193216</td>\n",
       "      <td>-0.121475</td>\n",
       "      <td>0.101389</td>\n",
       "      <td>0.062210</td>\n",
       "      <td>-0.144931</td>\n",
       "    </tr>\n",
       "    <tr>\n",
       "      <th>chol</th>\n",
       "      <td>0.213678</td>\n",
       "      <td>-0.197912</td>\n",
       "      <td>-0.076904</td>\n",
       "      <td>0.123174</td>\n",
       "      <td>1.000000</td>\n",
       "      <td>0.013294</td>\n",
       "      <td>-0.151040</td>\n",
       "      <td>-0.009940</td>\n",
       "      <td>0.067023</td>\n",
       "      <td>0.053952</td>\n",
       "      <td>-0.004038</td>\n",
       "      <td>0.070511</td>\n",
       "      <td>0.098803</td>\n",
       "      <td>-0.085239</td>\n",
       "    </tr>\n",
       "    <tr>\n",
       "      <th>fbs</th>\n",
       "      <td>0.121308</td>\n",
       "      <td>0.045032</td>\n",
       "      <td>0.094444</td>\n",
       "      <td>0.177531</td>\n",
       "      <td>0.013294</td>\n",
       "      <td>1.000000</td>\n",
       "      <td>-0.084189</td>\n",
       "      <td>-0.008567</td>\n",
       "      <td>0.025665</td>\n",
       "      <td>0.005747</td>\n",
       "      <td>-0.059894</td>\n",
       "      <td>0.137979</td>\n",
       "      <td>-0.032019</td>\n",
       "      <td>-0.028046</td>\n",
       "    </tr>\n",
       "    <tr>\n",
       "      <th>restecg</th>\n",
       "      <td>-0.116211</td>\n",
       "      <td>-0.058196</td>\n",
       "      <td>0.044421</td>\n",
       "      <td>-0.114103</td>\n",
       "      <td>-0.151040</td>\n",
       "      <td>-0.084189</td>\n",
       "      <td>1.000000</td>\n",
       "      <td>0.044123</td>\n",
       "      <td>-0.070733</td>\n",
       "      <td>-0.058770</td>\n",
       "      <td>0.093045</td>\n",
       "      <td>-0.072042</td>\n",
       "      <td>-0.011981</td>\n",
       "      <td>0.137230</td>\n",
       "    </tr>\n",
       "    <tr>\n",
       "      <th>thalachh</th>\n",
       "      <td>-0.398522</td>\n",
       "      <td>-0.044020</td>\n",
       "      <td>0.295762</td>\n",
       "      <td>-0.046698</td>\n",
       "      <td>-0.009940</td>\n",
       "      <td>-0.008567</td>\n",
       "      <td>0.044123</td>\n",
       "      <td>1.000000</td>\n",
       "      <td>-0.378812</td>\n",
       "      <td>-0.344187</td>\n",
       "      <td>0.386784</td>\n",
       "      <td>-0.213177</td>\n",
       "      <td>-0.096439</td>\n",
       "      <td>0.421741</td>\n",
       "    </tr>\n",
       "    <tr>\n",
       "      <th>exng</th>\n",
       "      <td>0.096801</td>\n",
       "      <td>0.141664</td>\n",
       "      <td>-0.394280</td>\n",
       "      <td>0.067616</td>\n",
       "      <td>0.067023</td>\n",
       "      <td>0.025665</td>\n",
       "      <td>-0.070733</td>\n",
       "      <td>-0.378812</td>\n",
       "      <td>1.000000</td>\n",
       "      <td>0.288223</td>\n",
       "      <td>-0.257748</td>\n",
       "      <td>0.115739</td>\n",
       "      <td>0.206754</td>\n",
       "      <td>-0.436757</td>\n",
       "    </tr>\n",
       "    <tr>\n",
       "      <th>oldpeak</th>\n",
       "      <td>0.210013</td>\n",
       "      <td>0.096093</td>\n",
       "      <td>-0.149230</td>\n",
       "      <td>0.193216</td>\n",
       "      <td>0.053952</td>\n",
       "      <td>0.005747</td>\n",
       "      <td>-0.058770</td>\n",
       "      <td>-0.344187</td>\n",
       "      <td>0.288223</td>\n",
       "      <td>1.000000</td>\n",
       "      <td>-0.577537</td>\n",
       "      <td>0.222682</td>\n",
       "      <td>0.210244</td>\n",
       "      <td>-0.430696</td>\n",
       "    </tr>\n",
       "    <tr>\n",
       "      <th>slp</th>\n",
       "      <td>-0.168814</td>\n",
       "      <td>-0.030711</td>\n",
       "      <td>0.119717</td>\n",
       "      <td>-0.121475</td>\n",
       "      <td>-0.004038</td>\n",
       "      <td>-0.059894</td>\n",
       "      <td>0.093045</td>\n",
       "      <td>0.386784</td>\n",
       "      <td>-0.257748</td>\n",
       "      <td>-0.577537</td>\n",
       "      <td>1.000000</td>\n",
       "      <td>-0.080155</td>\n",
       "      <td>-0.104764</td>\n",
       "      <td>0.345877</td>\n",
       "    </tr>\n",
       "    <tr>\n",
       "      <th>caa</th>\n",
       "      <td>0.276326</td>\n",
       "      <td>0.118261</td>\n",
       "      <td>-0.181053</td>\n",
       "      <td>0.101389</td>\n",
       "      <td>0.070511</td>\n",
       "      <td>0.137979</td>\n",
       "      <td>-0.072042</td>\n",
       "      <td>-0.213177</td>\n",
       "      <td>0.115739</td>\n",
       "      <td>0.222682</td>\n",
       "      <td>-0.080155</td>\n",
       "      <td>1.000000</td>\n",
       "      <td>0.151832</td>\n",
       "      <td>-0.391724</td>\n",
       "    </tr>\n",
       "    <tr>\n",
       "      <th>thall</th>\n",
       "      <td>0.068001</td>\n",
       "      <td>0.210041</td>\n",
       "      <td>-0.161736</td>\n",
       "      <td>0.062210</td>\n",
       "      <td>0.098803</td>\n",
       "      <td>-0.032019</td>\n",
       "      <td>-0.011981</td>\n",
       "      <td>-0.096439</td>\n",
       "      <td>0.206754</td>\n",
       "      <td>0.210244</td>\n",
       "      <td>-0.104764</td>\n",
       "      <td>0.151832</td>\n",
       "      <td>1.000000</td>\n",
       "      <td>-0.344029</td>\n",
       "    </tr>\n",
       "    <tr>\n",
       "      <th>output</th>\n",
       "      <td>-0.225439</td>\n",
       "      <td>-0.280937</td>\n",
       "      <td>0.433798</td>\n",
       "      <td>-0.144931</td>\n",
       "      <td>-0.085239</td>\n",
       "      <td>-0.028046</td>\n",
       "      <td>0.137230</td>\n",
       "      <td>0.421741</td>\n",
       "      <td>-0.436757</td>\n",
       "      <td>-0.430696</td>\n",
       "      <td>0.345877</td>\n",
       "      <td>-0.391724</td>\n",
       "      <td>-0.344029</td>\n",
       "      <td>1.000000</td>\n",
       "    </tr>\n",
       "  </tbody>\n",
       "</table>\n",
       "</div>"
      ],
      "text/plain": [
       "               age       sex        cp    trtbps      chol       fbs  \\\n",
       "age       1.000000 -0.098447 -0.068653  0.279351  0.213678  0.121308   \n",
       "sex      -0.098447  1.000000 -0.049353 -0.056769 -0.197912  0.045032   \n",
       "cp       -0.068653 -0.049353  1.000000  0.047608 -0.076904  0.094444   \n",
       "trtbps    0.279351 -0.056769  0.047608  1.000000  0.123174  0.177531   \n",
       "chol      0.213678 -0.197912 -0.076904  0.123174  1.000000  0.013294   \n",
       "fbs       0.121308  0.045032  0.094444  0.177531  0.013294  1.000000   \n",
       "restecg  -0.116211 -0.058196  0.044421 -0.114103 -0.151040 -0.084189   \n",
       "thalachh -0.398522 -0.044020  0.295762 -0.046698 -0.009940 -0.008567   \n",
       "exng      0.096801  0.141664 -0.394280  0.067616  0.067023  0.025665   \n",
       "oldpeak   0.210013  0.096093 -0.149230  0.193216  0.053952  0.005747   \n",
       "slp      -0.168814 -0.030711  0.119717 -0.121475 -0.004038 -0.059894   \n",
       "caa       0.276326  0.118261 -0.181053  0.101389  0.070511  0.137979   \n",
       "thall     0.068001  0.210041 -0.161736  0.062210  0.098803 -0.032019   \n",
       "output   -0.225439 -0.280937  0.433798 -0.144931 -0.085239 -0.028046   \n",
       "\n",
       "           restecg  thalachh      exng   oldpeak       slp       caa  \\\n",
       "age      -0.116211 -0.398522  0.096801  0.210013 -0.168814  0.276326   \n",
       "sex      -0.058196 -0.044020  0.141664  0.096093 -0.030711  0.118261   \n",
       "cp        0.044421  0.295762 -0.394280 -0.149230  0.119717 -0.181053   \n",
       "trtbps   -0.114103 -0.046698  0.067616  0.193216 -0.121475  0.101389   \n",
       "chol     -0.151040 -0.009940  0.067023  0.053952 -0.004038  0.070511   \n",
       "fbs      -0.084189 -0.008567  0.025665  0.005747 -0.059894  0.137979   \n",
       "restecg   1.000000  0.044123 -0.070733 -0.058770  0.093045 -0.072042   \n",
       "thalachh  0.044123  1.000000 -0.378812 -0.344187  0.386784 -0.213177   \n",
       "exng     -0.070733 -0.378812  1.000000  0.288223 -0.257748  0.115739   \n",
       "oldpeak  -0.058770 -0.344187  0.288223  1.000000 -0.577537  0.222682   \n",
       "slp       0.093045  0.386784 -0.257748 -0.577537  1.000000 -0.080155   \n",
       "caa      -0.072042 -0.213177  0.115739  0.222682 -0.080155  1.000000   \n",
       "thall    -0.011981 -0.096439  0.206754  0.210244 -0.104764  0.151832   \n",
       "output    0.137230  0.421741 -0.436757 -0.430696  0.345877 -0.391724   \n",
       "\n",
       "             thall    output  \n",
       "age       0.068001 -0.225439  \n",
       "sex       0.210041 -0.280937  \n",
       "cp       -0.161736  0.433798  \n",
       "trtbps    0.062210 -0.144931  \n",
       "chol      0.098803 -0.085239  \n",
       "fbs      -0.032019 -0.028046  \n",
       "restecg  -0.011981  0.137230  \n",
       "thalachh -0.096439  0.421741  \n",
       "exng      0.206754 -0.436757  \n",
       "oldpeak   0.210244 -0.430696  \n",
       "slp      -0.104764  0.345877  \n",
       "caa       0.151832 -0.391724  \n",
       "thall     1.000000 -0.344029  \n",
       "output   -0.344029  1.000000  "
      ]
     },
     "execution_count": 6,
     "metadata": {},
     "output_type": "execute_result"
    }
   ],
   "source": [
    "df.corr()"
   ]
  },
  {
   "cell_type": "raw",
   "id": "ff817b40",
   "metadata": {
    "execution": {
     "iopub.execute_input": "2023-02-08T15:29:59.076902Z",
     "iopub.status.busy": "2023-02-08T15:29:59.075870Z",
     "iopub.status.idle": "2023-02-08T15:29:59.933892Z",
     "shell.execute_reply": "2023-02-08T15:29:59.932743Z",
     "shell.execute_reply.started": "2023-02-08T15:29:59.076862Z"
    },
    "papermill": {
     "duration": 0.008861,
     "end_time": "2023-02-08T17:32:53.650670",
     "exception": false,
     "start_time": "2023-02-08T17:32:53.641809",
     "status": "completed"
    },
    "tags": []
   },
   "source": [
    "sns.heatmap(df.corr())"
   ]
  },
  {
   "cell_type": "markdown",
   "id": "94815f23",
   "metadata": {
    "papermill": {
     "duration": 0.008717,
     "end_time": "2023-02-08T17:32:53.668566",
     "exception": false,
     "start_time": "2023-02-08T17:32:53.659849",
     "status": "completed"
    },
    "tags": []
   },
   "source": [
    "## Preprocessing Data"
   ]
  },
  {
   "cell_type": "code",
   "execution_count": 7,
   "id": "182c1c4d",
   "metadata": {
    "execution": {
     "iopub.execute_input": "2023-02-08T17:32:53.689097Z",
     "iopub.status.busy": "2023-02-08T17:32:53.688298Z",
     "iopub.status.idle": "2023-02-08T17:32:53.696157Z",
     "shell.execute_reply": "2023-02-08T17:32:53.694757Z"
    },
    "papermill": {
     "duration": 0.020594,
     "end_time": "2023-02-08T17:32:53.698479",
     "exception": false,
     "start_time": "2023-02-08T17:32:53.677885",
     "status": "completed"
    },
    "tags": []
   },
   "outputs": [],
   "source": [
    "# dropping columns with poor co-relation\n",
    "df.drop(['chol', 'fbs'], axis=1, inplace=True)"
   ]
  },
  {
   "cell_type": "code",
   "execution_count": 8,
   "id": "b5a51938",
   "metadata": {
    "execution": {
     "iopub.execute_input": "2023-02-08T17:32:53.719249Z",
     "iopub.status.busy": "2023-02-08T17:32:53.718471Z",
     "iopub.status.idle": "2023-02-08T17:32:53.724210Z",
     "shell.execute_reply": "2023-02-08T17:32:53.723397Z"
    },
    "papermill": {
     "duration": 0.01862,
     "end_time": "2023-02-08T17:32:53.726414",
     "exception": false,
     "start_time": "2023-02-08T17:32:53.707794",
     "status": "completed"
    },
    "tags": []
   },
   "outputs": [],
   "source": [
    "X = df.drop(['output'], axis=1)\n",
    "y = df['output']"
   ]
  },
  {
   "cell_type": "code",
   "execution_count": 9,
   "id": "454778af",
   "metadata": {
    "execution": {
     "iopub.execute_input": "2023-02-08T17:32:53.747046Z",
     "iopub.status.busy": "2023-02-08T17:32:53.746303Z",
     "iopub.status.idle": "2023-02-08T17:32:53.754742Z",
     "shell.execute_reply": "2023-02-08T17:32:53.753622Z"
    },
    "papermill": {
     "duration": 0.021392,
     "end_time": "2023-02-08T17:32:53.757088",
     "exception": false,
     "start_time": "2023-02-08T17:32:53.735696",
     "status": "completed"
    },
    "tags": []
   },
   "outputs": [
    {
     "name": "stdout",
     "output_type": "stream",
     "text": [
      "1 1 1 1 1 1 1 1 1 1 1 1 1 1 1 1 1 1 1 1 1 1 1 1 1 1 1 1 1 1 1 1 1 1 1 1 1 1 1 1 1 1 1 1 1 1 1 1 1 1 1 1 1 1 1 1 1 1 1 1 1 1 1 1 1 1 1 1 1 1 1 1 1 1 1 1 1 1 1 1 1 1 1 1 1 1 1 1 1 1 1 1 1 1 1 1 1 1 1 1 1 1 1 1 1 1 1 1 1 1 1 1 1 1 1 1 1 1 1 1 1 1 1 1 1 1 1 1 1 1 1 1 1 1 1 1 1 1 1 1 1 1 1 1 1 1 1 1 1 1 1 1 1 1 1 1 1 1 1 1 1 1 1 1 1 0 0 0 0 0 0 0 0 0 0 0 0 0 0 0 0 0 0 0 0 0 0 0 0 0 0 0 0 0 0 0 0 0 0 0 0 0 0 0 0 0 0 0 0 0 0 0 0 0 0 0 0 0 0 0 0 0 0 0 0 0 0 0 0 0 0 0 0 0 0 0 0 0 0 0 0 0 0 0 0 0 0 0 0 0 0 0 0 0 0 0 0 0 0 0 0 0 0 0 0 0 0 0 0 0 0 0 0 0 0 0 0 0 0 0 0 0 0 0 0 0 0 0 0 0 0 0 0 0 0 0 0 0 0 0 0 0 0 "
     ]
    }
   ],
   "source": [
    "for i in y:\n",
    "    print(i, end=\" \")"
   ]
  },
  {
   "cell_type": "code",
   "execution_count": 10,
   "id": "1ff218d5",
   "metadata": {
    "execution": {
     "iopub.execute_input": "2023-02-08T17:32:53.778360Z",
     "iopub.status.busy": "2023-02-08T17:32:53.777314Z",
     "iopub.status.idle": "2023-02-08T17:32:53.784904Z",
     "shell.execute_reply": "2023-02-08T17:32:53.784092Z"
    },
    "papermill": {
     "duration": 0.02055,
     "end_time": "2023-02-08T17:32:53.787340",
     "exception": false,
     "start_time": "2023-02-08T17:32:53.766790",
     "status": "completed"
    },
    "tags": []
   },
   "outputs": [],
   "source": [
    "X_train, X_test, y_train, y_test = train_test_split(X, y, test_size=0.2, random_state=42)"
   ]
  },
  {
   "cell_type": "code",
   "execution_count": 11,
   "id": "cdb94f37",
   "metadata": {
    "execution": {
     "iopub.execute_input": "2023-02-08T17:32:53.808561Z",
     "iopub.status.busy": "2023-02-08T17:32:53.807453Z",
     "iopub.status.idle": "2023-02-08T17:32:53.821410Z",
     "shell.execute_reply": "2023-02-08T17:32:53.820247Z"
    },
    "papermill": {
     "duration": 0.027153,
     "end_time": "2023-02-08T17:32:53.823999",
     "exception": false,
     "start_time": "2023-02-08T17:32:53.796846",
     "status": "completed"
    },
    "tags": []
   },
   "outputs": [],
   "source": [
    "std_scaler = StandardScaler()\n",
    "X_train_sc = std_scaler.fit_transform(X_train)\n",
    "X_test_sc = std_scaler.fit_transform(X_test)"
   ]
  },
  {
   "cell_type": "code",
   "execution_count": null,
   "id": "4d376b26",
   "metadata": {
    "papermill": {
     "duration": 0.008948,
     "end_time": "2023-02-08T17:32:53.842367",
     "exception": false,
     "start_time": "2023-02-08T17:32:53.833419",
     "status": "completed"
    },
    "tags": []
   },
   "outputs": [],
   "source": []
  },
  {
   "cell_type": "markdown",
   "id": "531a7a8e",
   "metadata": {
    "papermill": {
     "duration": 0.008774,
     "end_time": "2023-02-08T17:32:53.860412",
     "exception": false,
     "start_time": "2023-02-08T17:32:53.851638",
     "status": "completed"
    },
    "tags": []
   },
   "source": [
    "## Training SVC"
   ]
  },
  {
   "cell_type": "code",
   "execution_count": 12,
   "id": "873f5a74",
   "metadata": {
    "execution": {
     "iopub.execute_input": "2023-02-08T17:32:53.880529Z",
     "iopub.status.busy": "2023-02-08T17:32:53.880093Z",
     "iopub.status.idle": "2023-02-08T17:32:54.478138Z",
     "shell.execute_reply": "2023-02-08T17:32:54.477023Z"
    },
    "papermill": {
     "duration": 0.611308,
     "end_time": "2023-02-08T17:32:54.480835",
     "exception": false,
     "start_time": "2023-02-08T17:32:53.869527",
     "status": "completed"
    },
    "tags": []
   },
   "outputs": [
    {
     "data": {
      "text/plain": [
       "{'C': 2, 'kernel': 'rbf'}"
      ]
     },
     "execution_count": 12,
     "metadata": {},
     "output_type": "execute_result"
    }
   ],
   "source": [
    "# Finding the best parameters for svc\n",
    "svc_clf_trial = SVC()\n",
    "param = {\n",
    "    'C' : [0.1, 0.4, 0.8, 1, 1.2, 1.4, 1.6, 2, 2.2, 2.4],\n",
    "    'kernel' : ['rbf', 'poly', 'linear']\n",
    "}\n",
    "grid_svc = GridSearchCV(svc_clf_trial,param)\n",
    "grid_svc.fit(X_train_sc, y_train)\n",
    "grid_svc.best_params_"
   ]
  },
  {
   "cell_type": "code",
   "execution_count": 13,
   "id": "304a9acb",
   "metadata": {
    "execution": {
     "iopub.execute_input": "2023-02-08T17:32:54.501414Z",
     "iopub.status.busy": "2023-02-08T17:32:54.500989Z",
     "iopub.status.idle": "2023-02-08T17:32:54.514855Z",
     "shell.execute_reply": "2023-02-08T17:32:54.513591Z"
    },
    "papermill": {
     "duration": 0.02709,
     "end_time": "2023-02-08T17:32:54.517459",
     "exception": false,
     "start_time": "2023-02-08T17:32:54.490369",
     "status": "completed"
    },
    "tags": []
   },
   "outputs": [
    {
     "data": {
      "text/plain": [
       "0.8688524590163934"
      ]
     },
     "execution_count": 13,
     "metadata": {},
     "output_type": "execute_result"
    }
   ],
   "source": [
    "svc_clf = SVC(C=2, kernel='rbf', random_state=42)\n",
    "svc_clf.fit(X_train_sc, y_train)\n",
    "y_pred_svc = svc_clf.predict(X_test_sc)\n",
    "accuracy_score(y_test, y_pred_svc)"
   ]
  },
  {
   "cell_type": "code",
   "execution_count": null,
   "id": "c122e0a4",
   "metadata": {
    "papermill": {
     "duration": 0.009022,
     "end_time": "2023-02-08T17:32:54.536052",
     "exception": false,
     "start_time": "2023-02-08T17:32:54.527030",
     "status": "completed"
    },
    "tags": []
   },
   "outputs": [],
   "source": []
  },
  {
   "cell_type": "markdown",
   "id": "5acc2126",
   "metadata": {
    "papermill": {
     "duration": 0.009439,
     "end_time": "2023-02-08T17:32:54.554831",
     "exception": false,
     "start_time": "2023-02-08T17:32:54.545392",
     "status": "completed"
    },
    "tags": []
   },
   "source": [
    "## Training LogisticRegression"
   ]
  },
  {
   "cell_type": "code",
   "execution_count": 14,
   "id": "82732b60",
   "metadata": {
    "execution": {
     "iopub.execute_input": "2023-02-08T17:32:54.576080Z",
     "iopub.status.busy": "2023-02-08T17:32:54.575670Z",
     "iopub.status.idle": "2023-02-08T17:32:56.412635Z",
     "shell.execute_reply": "2023-02-08T17:32:56.411463Z"
    },
    "papermill": {
     "duration": 1.850729,
     "end_time": "2023-02-08T17:32:56.415106",
     "exception": false,
     "start_time": "2023-02-08T17:32:54.564377",
     "status": "completed"
    },
    "tags": []
   },
   "outputs": [
    {
     "data": {
      "text/plain": [
       "{'C': 0.1, 'penalty': 'l2', 'solver': 'liblinear'}"
      ]
     },
     "execution_count": 14,
     "metadata": {},
     "output_type": "execute_result"
    }
   ],
   "source": [
    "log_reg_trial = LogisticRegression(random_state=42)\n",
    "param = {\n",
    "    'solver' : ['lbfgs', 'liblinear', 'newton-cg', 'newton-cholesky', 'sag', 'saga'],\n",
    "    'penalty' : ['l2', 'none'],\n",
    "    'C' : [0.1, 0.3, 0.8, 1, 1.2, 1.4, 1.6, 1.8]\n",
    "}\n",
    "grid_log_reg = GridSearchCV(log_reg_trial, param)\n",
    "grid_log_reg.fit(X_train_sc, y_train)\n",
    "grid_log_reg.best_params_"
   ]
  },
  {
   "cell_type": "code",
   "execution_count": 15,
   "id": "5080ec70",
   "metadata": {
    "execution": {
     "iopub.execute_input": "2023-02-08T17:32:56.436794Z",
     "iopub.status.busy": "2023-02-08T17:32:56.436395Z",
     "iopub.status.idle": "2023-02-08T17:32:56.447114Z",
     "shell.execute_reply": "2023-02-08T17:32:56.445953Z"
    },
    "papermill": {
     "duration": 0.024471,
     "end_time": "2023-02-08T17:32:56.449496",
     "exception": false,
     "start_time": "2023-02-08T17:32:56.425025",
     "status": "completed"
    },
    "tags": []
   },
   "outputs": [
    {
     "data": {
      "text/plain": [
       "0.8852459016393442"
      ]
     },
     "execution_count": 15,
     "metadata": {},
     "output_type": "execute_result"
    }
   ],
   "source": [
    "log_reg = LogisticRegression(C=0.1, penalty='l2', solver='liblinear', random_state=42)\n",
    "log_reg.fit(X_train_sc, y_train)\n",
    "y_pred_log = log_reg.predict(X_test_sc)\n",
    "accuracy_score(y_test, y_pred_log)"
   ]
  },
  {
   "cell_type": "code",
   "execution_count": null,
   "id": "6d1a0345",
   "metadata": {
    "papermill": {
     "duration": 0.009294,
     "end_time": "2023-02-08T17:32:56.468443",
     "exception": false,
     "start_time": "2023-02-08T17:32:56.459149",
     "status": "completed"
    },
    "tags": []
   },
   "outputs": [],
   "source": []
  },
  {
   "cell_type": "markdown",
   "id": "9807f9c7",
   "metadata": {
    "papermill": {
     "duration": 0.009336,
     "end_time": "2023-02-08T17:32:56.487435",
     "exception": false,
     "start_time": "2023-02-08T17:32:56.478099",
     "status": "completed"
    },
    "tags": []
   },
   "source": [
    "## Training KNeighborsClassifier"
   ]
  },
  {
   "cell_type": "code",
   "execution_count": 16,
   "id": "a47721ce",
   "metadata": {
    "execution": {
     "iopub.execute_input": "2023-02-08T17:32:56.508535Z",
     "iopub.status.busy": "2023-02-08T17:32:56.508113Z",
     "iopub.status.idle": "2023-02-08T17:32:56.646683Z",
     "shell.execute_reply": "2023-02-08T17:32:56.645561Z"
    },
    "papermill": {
     "duration": 0.152199,
     "end_time": "2023-02-08T17:32:56.649310",
     "exception": false,
     "start_time": "2023-02-08T17:32:56.497111",
     "status": "completed"
    },
    "tags": []
   },
   "outputs": [
    {
     "data": {
      "text/plain": [
       "{'n_neighbors': 5}"
      ]
     },
     "execution_count": 16,
     "metadata": {},
     "output_type": "execute_result"
    }
   ],
   "source": [
    "knn_clf_trial = KNeighborsClassifier()\n",
    "param = {\n",
    "    'n_neighbors' : [1,2,3,4,5,6,7]\n",
    "}\n",
    "grid_knn = GridSearchCV(knn_clf_trial, param)\n",
    "grid_knn.fit(X_train_sc, y_train)\n",
    "grid_knn.best_params_"
   ]
  },
  {
   "cell_type": "code",
   "execution_count": 17,
   "id": "93cf5db0",
   "metadata": {
    "execution": {
     "iopub.execute_input": "2023-02-08T17:32:56.671258Z",
     "iopub.status.busy": "2023-02-08T17:32:56.670781Z",
     "iopub.status.idle": "2023-02-08T17:32:56.684297Z",
     "shell.execute_reply": "2023-02-08T17:32:56.683083Z"
    },
    "papermill": {
     "duration": 0.027487,
     "end_time": "2023-02-08T17:32:56.686630",
     "exception": false,
     "start_time": "2023-02-08T17:32:56.659143",
     "status": "completed"
    },
    "tags": []
   },
   "outputs": [
    {
     "data": {
      "text/plain": [
       "0.8852459016393442"
      ]
     },
     "execution_count": 17,
     "metadata": {},
     "output_type": "execute_result"
    }
   ],
   "source": [
    "knn_clf = KNeighborsClassifier(n_neighbors=5)\n",
    "knn_clf.fit(X_train_sc, y_train)\n",
    "y_pred_knn = knn_clf.predict(X_test_sc)\n",
    "accuracy_score(y_test, y_pred_knn)"
   ]
  },
  {
   "cell_type": "code",
   "execution_count": null,
   "id": "8c32d323",
   "metadata": {
    "papermill": {
     "duration": 0.0101,
     "end_time": "2023-02-08T17:32:56.706838",
     "exception": false,
     "start_time": "2023-02-08T17:32:56.696738",
     "status": "completed"
    },
    "tags": []
   },
   "outputs": [],
   "source": []
  },
  {
   "cell_type": "markdown",
   "id": "935cb0fc",
   "metadata": {
    "papermill": {
     "duration": 0.009786,
     "end_time": "2023-02-08T17:32:56.726858",
     "exception": false,
     "start_time": "2023-02-08T17:32:56.717072",
     "status": "completed"
    },
    "tags": []
   },
   "source": [
    "## Training RandomForestRegressor"
   ]
  },
  {
   "cell_type": "code",
   "execution_count": 18,
   "id": "92552031",
   "metadata": {
    "execution": {
     "iopub.execute_input": "2023-02-08T17:32:56.749333Z",
     "iopub.status.busy": "2023-02-08T17:32:56.748907Z",
     "iopub.status.idle": "2023-02-08T17:32:56.924572Z",
     "shell.execute_reply": "2023-02-08T17:32:56.923517Z"
    },
    "papermill": {
     "duration": 0.190083,
     "end_time": "2023-02-08T17:32:56.927097",
     "exception": false,
     "start_time": "2023-02-08T17:32:56.737014",
     "status": "completed"
    },
    "tags": []
   },
   "outputs": [
    {
     "data": {
      "text/plain": [
       "0.8524590163934426"
      ]
     },
     "execution_count": 18,
     "metadata": {},
     "output_type": "execute_result"
    }
   ],
   "source": [
    "rf_clf = RandomForestClassifier(n_estimators=100, random_state=42)\n",
    "rf_clf.fit(X_train_sc, y_train)\n",
    "y_pred_rf = rf_clf.predict(X_test_sc)\n",
    "accuracy_score(y_test, y_pred_rf)"
   ]
  },
  {
   "cell_type": "code",
   "execution_count": null,
   "id": "b073d651",
   "metadata": {
    "papermill": {
     "duration": 0.009658,
     "end_time": "2023-02-08T17:32:56.947332",
     "exception": false,
     "start_time": "2023-02-08T17:32:56.937674",
     "status": "completed"
    },
    "tags": []
   },
   "outputs": [],
   "source": []
  },
  {
   "cell_type": "markdown",
   "id": "561e562f",
   "metadata": {
    "papermill": {
     "duration": 0.009683,
     "end_time": "2023-02-08T17:32:56.967383",
     "exception": false,
     "start_time": "2023-02-08T17:32:56.957700",
     "status": "completed"
    },
    "tags": []
   },
   "source": [
    "## Trying VotingClassifier"
   ]
  },
  {
   "cell_type": "code",
   "execution_count": 19,
   "id": "64eb3dbb",
   "metadata": {
    "execution": {
     "iopub.execute_input": "2023-02-08T17:32:56.989440Z",
     "iopub.status.busy": "2023-02-08T17:32:56.989002Z",
     "iopub.status.idle": "2023-02-08T17:32:57.194256Z",
     "shell.execute_reply": "2023-02-08T17:32:57.193166Z"
    },
    "papermill": {
     "duration": 0.219833,
     "end_time": "2023-02-08T17:32:57.197245",
     "exception": false,
     "start_time": "2023-02-08T17:32:56.977412",
     "status": "completed"
    },
    "tags": []
   },
   "outputs": [
    {
     "data": {
      "text/plain": [
       "0.8688524590163934"
      ]
     },
     "execution_count": 19,
     "metadata": {},
     "output_type": "execute_result"
    }
   ],
   "source": [
    "voting_clf = VotingClassifier(\n",
    "    estimators=[('svc', svc_clf), ('log_reg', log_reg),\n",
    "                ('knn', knn_clf), ('rf', rf_clf)],\n",
    "    voting='hard'\n",
    ")\n",
    "voting_clf.fit(X_train_sc, y_train)\n",
    "y_pred_voting = voting_clf.predict(X_test_sc)\n",
    "accuracy_score(y_test, y_pred_voting)"
   ]
  },
  {
   "cell_type": "code",
   "execution_count": null,
   "id": "5d8e4f0d",
   "metadata": {
    "papermill": {
     "duration": 0.014416,
     "end_time": "2023-02-08T17:32:57.227316",
     "exception": false,
     "start_time": "2023-02-08T17:32:57.212900",
     "status": "completed"
    },
    "tags": []
   },
   "outputs": [],
   "source": []
  },
  {
   "cell_type": "markdown",
   "id": "5a2f98f0",
   "metadata": {
    "papermill": {
     "duration": 0.012365,
     "end_time": "2023-02-08T17:32:57.254366",
     "exception": false,
     "start_time": "2023-02-08T17:32:57.242001",
     "status": "completed"
    },
    "tags": []
   },
   "source": [
    "### Since Kneighbors and LogisticRegression both have same accuracy score lets use cross_val_score to further evaluate them"
   ]
  },
  {
   "cell_type": "code",
   "execution_count": 20,
   "id": "8f0c0389",
   "metadata": {
    "execution": {
     "iopub.execute_input": "2023-02-08T17:32:57.277458Z",
     "iopub.status.busy": "2023-02-08T17:32:57.277055Z",
     "iopub.status.idle": "2023-02-08T17:32:57.344106Z",
     "shell.execute_reply": "2023-02-08T17:32:57.342689Z"
    },
    "papermill": {
     "duration": 0.081295,
     "end_time": "2023-02-08T17:32:57.346681",
     "exception": false,
     "start_time": "2023-02-08T17:32:57.265386",
     "status": "completed"
    },
    "tags": []
   },
   "outputs": [
    {
     "name": "stdout",
     "output_type": "stream",
     "text": [
      "KNN:  0.8180000000000002\n",
      "Log_reg:  0.8226666666666667\n"
     ]
    }
   ],
   "source": [
    "cross_knn = cross_val_score(estimator = knn_clf, X = X_train_sc, y = y_train, cv=10)\n",
    "cross_logreg = cross_val_score(estimator = log_reg, X = X_train_sc, y = y_train, cv=10)\n",
    "\n",
    "print(\"KNN: \", cross_knn.mean())\n",
    "print(\"Log_reg: \", cross_logreg.mean())"
   ]
  },
  {
   "cell_type": "markdown",
   "id": "4622c9cc",
   "metadata": {
    "papermill": {
     "duration": 0.011865,
     "end_time": "2023-02-08T17:32:57.368991",
     "exception": false,
     "start_time": "2023-02-08T17:32:57.357126",
     "status": "completed"
    },
    "tags": []
   },
   "source": [
    "### Since we now know that knn and log_reg are overfitting, lets try cross_val_score on all models"
   ]
  },
  {
   "cell_type": "code",
   "execution_count": 21,
   "id": "a1ce19ea",
   "metadata": {
    "execution": {
     "iopub.execute_input": "2023-02-08T17:32:57.391965Z",
     "iopub.status.busy": "2023-02-08T17:32:57.391430Z",
     "iopub.status.idle": "2023-02-08T17:33:00.752984Z",
     "shell.execute_reply": "2023-02-08T17:33:00.751277Z"
    },
    "papermill": {
     "duration": 3.375751,
     "end_time": "2023-02-08T17:33:00.755716",
     "exception": false,
     "start_time": "2023-02-08T17:32:57.379965",
     "status": "completed"
    },
    "tags": []
   },
   "outputs": [
    {
     "name": "stdout",
     "output_type": "stream",
     "text": [
      "RF:  0.8181666666666667\n",
      "SVC:  0.8220000000000001\n",
      "Vote:  0.8305\n"
     ]
    }
   ],
   "source": [
    "cross_rf = cross_val_score(estimator = rf_clf, X = X_train_sc, y = y_train, cv=10)\n",
    "cross_svc = cross_val_score(estimator = svc_clf, X = X_train_sc, y = y_train, cv=10)\n",
    "cross_vote = cross_val_score(estimator = voting_clf, X = X_train_sc, y = y_train, cv=10)\n",
    "\n",
    "print(\"RF: \", cross_rf.mean())\n",
    "print(\"SVC: \", cross_svc.mean())\n",
    "print(\"Vote: \", cross_vote.mean())"
   ]
  },
  {
   "cell_type": "code",
   "execution_count": null,
   "id": "bc57b573",
   "metadata": {
    "papermill": {
     "duration": 0.009989,
     "end_time": "2023-02-08T17:33:00.776157",
     "exception": false,
     "start_time": "2023-02-08T17:33:00.766168",
     "status": "completed"
    },
    "tags": []
   },
   "outputs": [],
   "source": []
  },
  {
   "cell_type": "markdown",
   "id": "697bac1e",
   "metadata": {
    "papermill": {
     "duration": 0.010005,
     "end_time": "2023-02-08T17:33:00.796630",
     "exception": false,
     "start_time": "2023-02-08T17:33:00.786625",
     "status": "completed"
    },
    "tags": []
   },
   "source": [
    "## Thus the Voting Classifier gives the best accuracy"
   ]
  },
  {
   "cell_type": "markdown",
   "id": "fa421664",
   "metadata": {
    "papermill": {
     "duration": 0.009875,
     "end_time": "2023-02-08T17:33:00.816813",
     "exception": false,
     "start_time": "2023-02-08T17:33:00.806938",
     "status": "completed"
    },
    "tags": []
   },
   "source": [
    "#### Note: The overfitting of dataset can be reduced by introduction of noise in dataset."
   ]
  }
 ],
 "metadata": {
  "kernelspec": {
   "display_name": "Python 3",
   "language": "python",
   "name": "python3"
  },
  "language_info": {
   "codemirror_mode": {
    "name": "ipython",
    "version": 3
   },
   "file_extension": ".py",
   "mimetype": "text/x-python",
   "name": "python",
   "nbconvert_exporter": "python",
   "pygments_lexer": "ipython3",
   "version": "3.7.12"
  },
  "papermill": {
   "default_parameters": {},
   "duration": 17.530554,
   "end_time": "2023-02-08T17:33:01.549629",
   "environment_variables": {},
   "exception": null,
   "input_path": "__notebook__.ipynb",
   "output_path": "__notebook__.ipynb",
   "parameters": {},
   "start_time": "2023-02-08T17:32:44.019075",
   "version": "2.3.4"
  }
 },
 "nbformat": 4,
 "nbformat_minor": 5
}
